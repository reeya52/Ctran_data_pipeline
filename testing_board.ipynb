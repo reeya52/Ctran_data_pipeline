{
 "cells": [
  {
   "cell_type": "code",
   "execution_count": 1,
   "metadata": {},
   "outputs": [],
   "source": [
    "import pandas as pd\n",
    "import numpy as np\n",
    "import json\n",
    "import ast\n",
    "import os\n",
    "from datetime import datetime, timedelta"
   ]
  },
  {
   "cell_type": "code",
   "execution_count": 2,
   "metadata": {},
   "outputs": [],
   "source": [
    "def return_df():\n",
    "    # current_file_path = \"/home/reeya/consumed_data\"\n",
    "    # date = datetime.today().strftime('%Y-%m-%d')\n",
    "    # file_name = date + str(\".json\")\n",
    "    # file_path = os.path.join(current_file_path, file_name)\n",
    "\n",
    "    file_path = \"/home/reeya/consumed_data/2022-05-10.json\"\n",
    "\n",
    "    with open(file_path, 'r') as f:\n",
    "        data = json.load(f)\n",
    "\n",
    "    print(\"Data Loaded..\")\n",
    "\n",
    "        # print(data[0])\n",
    "    for i in range(len(data)):\n",
    "        data[i] = ast.literal_eval(data[i])\n",
    "\n",
    "    print(\"Data Transformed..\")\n",
    "\n",
    "    df = pd.read_json(json.dumps(data, indent=15))\n",
    "    # print(df.head(10))\n",
    "    print(\"Returning Data\")\n",
    "    return df"
   ]
  },
  {
   "cell_type": "code",
   "execution_count": 3,
   "metadata": {},
   "outputs": [
    {
     "name": "stdout",
     "output_type": "stream",
     "text": [
      "Data Loaded..\n",
      "Data Transformed..\n",
      "Returning Data\n",
      "Data Received..\n"
     ]
    }
   ],
   "source": [
    "df = return_df()\n",
    "if not (df.empty):\n",
    "    print(\"Data Received..\")\n",
    "else:\n",
    "    print(\"No data received\")\n",
    "\n",
    "breadcrumb_df = df[['ACT_TIME','GPS_LATITUDE','GPS_LONGITUDE','DIRECTION','VELOCITY','EVENT_NO_TRIP']]\n",
    "trip_df = df[['EVENT_NO_TRIP','VEHICLE_ID']]"
   ]
  },
  {
   "cell_type": "code",
   "execution_count": 5,
   "metadata": {},
   "outputs": [
    {
     "name": "stdout",
     "output_type": "stream",
     "text": [
      "   ACT_TIME GPS_LATITUDE GPS_LONGITUDE DIRECTION VELOCITY  EVENT_NO_TRIP\n",
      "0     20380     45.63645    -122.60488       168        4      170333377\n",
      "1     20385    45.636368   -122.604573       111        5      170333377\n",
      "2     20390    45.636422   -122.603953        83       10      170333377\n",
      "3     20395     45.63642   -122.603202        90       11      170333377\n",
      "4     20400    45.636462   -122.602408        86       12      170333377\n",
      "5     20405    45.636497   -122.601595        86       12      170333377\n",
      "6     20410    45.636542   -122.600828        85       11      170333377\n",
      "7     20415    45.636597   -122.600387        80        5      170333377\n",
      "8     20418      45.6366   -122.600358        80        0      170333377\n",
      "9     20420      45.6366   -122.600358         0        0      170333377\n"
     ]
    }
   ],
   "source": [
    "print(breadcrumb_df.head(10))"
   ]
  },
  {
   "cell_type": "code",
   "execution_count": 6,
   "metadata": {},
   "outputs": [
    {
     "name": "stdout",
     "output_type": "stream",
     "text": [
      "(369462, 14)\n"
     ]
    }
   ],
   "source": [
    "print(df.shape)"
   ]
  },
  {
   "cell_type": "code",
   "execution_count": 7,
   "metadata": {},
   "outputs": [
    {
     "name": "stdout",
     "output_type": "stream",
     "text": [
      "   EVENT_NO_TRIP  EVENT_NO_STOP   OPD_DATE  VEHICLE_ID  METERS  ACT_TIME  \\\n",
      "0      170333377      170333382  14-OCT-20        1776     377     20380   \n",
      "1      170333377      170333382  14-OCT-20        1776     406     20385   \n",
      "\n",
      "  VELOCITY DIRECTION RADIO_QUALITY GPS_LONGITUDE GPS_LATITUDE GPS_SATELLITES  \\\n",
      "0        4       168                  -122.60488     45.63645              9   \n",
      "1        5       111                 -122.604573    45.636368              9   \n",
      "\n",
      "  GPS_HDOP SCHEDULE_DEVIATION  \n",
      "0      0.9                     \n",
      "1      1.3                     \n"
     ]
    }
   ],
   "source": [
    "print((df.iloc[:2]))"
   ]
  },
  {
   "cell_type": "code",
   "execution_count": 8,
   "metadata": {},
   "outputs": [
    {
     "name": "stdout",
     "output_type": "stream",
     "text": [
      "<class 'numpy.int64'>\n"
     ]
    }
   ],
   "source": [
    "print(type(df['ACT_TIME'][0]))"
   ]
  },
  {
   "cell_type": "code",
   "execution_count": 9,
   "metadata": {},
   "outputs": [],
   "source": [
    "time_in_seconds = df['ACT_TIME'][0]"
   ]
  },
  {
   "cell_type": "code",
   "execution_count": 10,
   "metadata": {},
   "outputs": [
    {
     "name": "stdout",
     "output_type": "stream",
     "text": [
      "<class 'str'>\n"
     ]
    }
   ],
   "source": [
    "print(type(str(timedelta(seconds=float(time_in_seconds)))))"
   ]
  },
  {
   "cell_type": "code",
   "execution_count": 11,
   "metadata": {},
   "outputs": [
    {
     "name": "stdout",
     "output_type": "stream",
     "text": [
      "14-OCT-20\n"
     ]
    }
   ],
   "source": [
    "print((df['OPD_DATE'][0]))"
   ]
  },
  {
   "cell_type": "code",
   "execution_count": 12,
   "metadata": {},
   "outputs": [
    {
     "name": "stdout",
     "output_type": "stream",
     "text": [
      "0    20380\n",
      "1    20385\n",
      "2    20390\n",
      "3    20395\n",
      "4    20400\n",
      "5    20405\n",
      "6    20410\n",
      "7    20415\n",
      "8    20418\n",
      "9    20420\n",
      "Name: ACT_TIME, dtype: int64\n"
     ]
    }
   ],
   "source": [
    "print(df['ACT_TIME'].head(10))"
   ]
  },
  {
   "cell_type": "code",
   "execution_count": 13,
   "metadata": {},
   "outputs": [],
   "source": [
    "def date_to_timestamp(date):\n",
    "    date_timestamp = datetime.strptime(date,\"%d-%b-%y %H:%M:%S\")\n",
    "    return date_timestamp"
   ]
  },
  {
   "cell_type": "code",
   "execution_count": 4,
   "metadata": {},
   "outputs": [],
   "source": [
    "def date_to_timestamp(date):\n",
    "    date_timestamp = datetime.strptime(date,\"%d-%b-%y\")\n",
    "    return date_timestamp\n",
    "\n",
    "\n"
   ]
  },
  {
   "cell_type": "code",
   "execution_count": 5,
   "metadata": {},
   "outputs": [],
   "source": [
    "date_df = pd.DataFrame(columns=['tstamp'])\n",
    "date_df['tstamp'] = df['OPD_DATE'].apply(date_to_timestamp)"
   ]
  },
  {
   "cell_type": "code",
   "execution_count": 6,
   "metadata": {},
   "outputs": [
    {
     "name": "stdout",
     "output_type": "stream",
     "text": [
      "      tstamp\n",
      "0 2020-10-13\n",
      "1 2020-10-13\n",
      "2 2020-10-13\n",
      "3 2020-10-13\n",
      "4 2020-10-13\n",
      "5 2020-10-13\n",
      "6 2020-10-13\n",
      "7 2020-10-13\n",
      "8 2020-10-13\n",
      "9 2020-10-13\n"
     ]
    }
   ],
   "source": [
    "print(date_df.head(10))"
   ]
  },
  {
   "cell_type": "code",
   "execution_count": 7,
   "metadata": {},
   "outputs": [],
   "source": [
    "def seconds_to_timestamp(time_in_seconds):\n",
    "\n",
    "    return timedelta(seconds=float(time_in_seconds))"
   ]
  },
  {
   "cell_type": "code",
   "execution_count": 8,
   "metadata": {},
   "outputs": [],
   "source": [
    "time_df = pd.DataFrame(columns=['ACT_TIME'])\n",
    "time_df['ACT_TIME'] = df['ACT_TIME'].apply(seconds_to_timestamp)\n"
   ]
  },
  {
   "cell_type": "code",
   "execution_count": 9,
   "metadata": {},
   "outputs": [],
   "source": [
    "tstamp_df = pd.DataFrame(columns=['tstamp'])\n",
    "tstamp_df['tstamp'] = date_df['tstamp']+time_df['ACT_TIME']"
   ]
  },
  {
   "cell_type": "code",
   "execution_count": 10,
   "metadata": {},
   "outputs": [
    {
     "name": "stdout",
     "output_type": "stream",
     "text": [
      "               tstamp\n",
      "0 2020-10-13 15:53:32\n",
      "1 2020-10-13 15:53:37\n",
      "2 2020-10-13 15:53:42\n",
      "3 2020-10-13 15:53:47\n",
      "4 2020-10-13 15:53:52\n",
      "5 2020-10-13 15:53:57\n",
      "6 2020-10-13 15:54:02\n",
      "7 2020-10-13 15:54:07\n",
      "8 2020-10-13 15:54:12\n",
      "9 2020-10-13 15:54:13\n"
     ]
    }
   ],
   "source": [
    "print(tstamp_df.head(10))"
   ]
  },
  {
   "cell_type": "code",
   "execution_count": 11,
   "metadata": {},
   "outputs": [],
   "source": [
    "def evaluate_service_key(time_stamp):\n",
    "    day_of_week = time_stamp.weekday()\n",
    "    \n",
    "    if(day_of_week<5):\n",
    "        return \"Weekday\"\n",
    "    elif (day_of_week==5):\n",
    "        return \"Saturday\"\n",
    "    else:\n",
    "        return \"Sunday\""
   ]
  },
  {
   "cell_type": "code",
   "execution_count": 12,
   "metadata": {},
   "outputs": [],
   "source": [
    "df_service_key = pd.DataFrame(columns=['SERVICE_KEY'])\n"
   ]
  },
  {
   "cell_type": "code",
   "execution_count": 13,
   "metadata": {},
   "outputs": [],
   "source": [
    "df_service_key['SERVICE_KEY'] = tstamp_df['tstamp'].apply(evaluate_service_key)"
   ]
  },
  {
   "cell_type": "code",
   "execution_count": 14,
   "metadata": {},
   "outputs": [
    {
     "name": "stdout",
     "output_type": "stream",
     "text": [
      "0    Weekday\n",
      "1    Weekday\n",
      "2    Weekday\n",
      "3    Weekday\n",
      "4    Weekday\n",
      "5    Weekday\n",
      "6    Weekday\n",
      "7    Weekday\n",
      "8    Weekday\n",
      "9    Weekday\n",
      "Name: SERVICE_KEY, dtype: object\n"
     ]
    }
   ],
   "source": [
    "print(df_service_key['SERVICE_KEY'].head(10))"
   ]
  },
  {
   "cell_type": "code",
   "execution_count": 15,
   "metadata": {},
   "outputs": [],
   "source": [
    "breadcrumb_df = pd.DataFrame(columns=['tstamp','latitude','longitude','direction','speed','trip_id'])\n"
   ]
  },
  {
   "cell_type": "code",
   "execution_count": 26,
   "metadata": {},
   "outputs": [
    {
     "name": "stdout",
     "output_type": "stream",
     "text": [
      "   EVENT_NO_TRIP  EVENT_NO_STOP   OPD_DATE  VEHICLE_ID  METERS  ACT_TIME  \\\n",
      "0      170333377      170333382  14-OCT-20        1776     377     20380   \n",
      "1      170333377      170333382  14-OCT-20        1776     406     20385   \n",
      "2      170333377      170333382  14-OCT-20        1776     457     20390   \n",
      "\n",
      "  VELOCITY DIRECTION RADIO_QUALITY GPS_LONGITUDE GPS_LATITUDE GPS_SATELLITES  \\\n",
      "0        4       168                  -122.60488     45.63645              9   \n",
      "1        5       111                 -122.604573    45.636368              9   \n",
      "2       10        83                 -122.603953    45.636422              9   \n",
      "\n",
      "  GPS_HDOP SCHEDULE_DEVIATION  \n",
      "0      0.9                     \n",
      "1      1.3                     \n",
      "2      0.9                     \n"
     ]
    }
   ],
   "source": [
    "print(df.head(3))"
   ]
  },
  {
   "cell_type": "code",
   "execution_count": 16,
   "metadata": {},
   "outputs": [],
   "source": [
    "breadcrumb_df['tstamp'] = tstamp_df['tstamp']"
   ]
  },
  {
   "cell_type": "code",
   "execution_count": 28,
   "metadata": {},
   "outputs": [
    {
     "name": "stdout",
     "output_type": "stream",
     "text": [
      "               tstamp latitude longitude direction speed trip_id\n",
      "0 2020-10-14 05:39:40      NaN       NaN       NaN   NaN     NaN\n",
      "1 2020-10-14 05:39:45      NaN       NaN       NaN   NaN     NaN\n",
      "2 2020-10-14 05:39:50      NaN       NaN       NaN   NaN     NaN\n"
     ]
    }
   ],
   "source": [
    "print(breadcrumb_df.head(3))"
   ]
  },
  {
   "cell_type": "code",
   "execution_count": 17,
   "metadata": {},
   "outputs": [],
   "source": [
    "breadcrumb_df[['latitude','longitude','direction','speed','trip_id']] = df[['GPS_LATITUDE','GPS_LONGITUDE','DIRECTION','VELOCITY','EVENT_NO_TRIP']]"
   ]
  },
  {
   "cell_type": "code",
   "execution_count": 30,
   "metadata": {},
   "outputs": [
    {
     "name": "stdout",
     "output_type": "stream",
     "text": [
      "               tstamp   latitude    longitude direction speed    trip_id\n",
      "0 2020-10-14 05:39:40   45.63645   -122.60488       168     4  170333377\n",
      "1 2020-10-14 05:39:45  45.636368  -122.604573       111     5  170333377\n",
      "2 2020-10-14 05:39:50  45.636422  -122.603953        83    10  170333377\n"
     ]
    }
   ],
   "source": [
    "print(breadcrumb_df.head(3))"
   ]
  },
  {
   "cell_type": "code",
   "execution_count": 18,
   "metadata": {},
   "outputs": [],
   "source": [
    "def create_trip_df(df, service_key_df):\n",
    "    df['SERVICE_KEY'] = service_key_df['SERVICE_KEY']\n",
    "    trip_df = pd.DataFrame(columns=['trip_id','route_id','vehicle_id','service_key','direction'])\n",
    "    trip_id_lookup = list()\n",
    "    for index,row in df.iterrows():\n",
    "        if row['EVENT_NO_TRIP'] in trip_id_lookup:\n",
    "            continue\n",
    "        else:\n",
    "            new_row = {'trip_id':row['EVENT_NO_TRIP'],'route_id':np.nan,'vehicle_id':row['VEHICLE_ID'],'service_key':row['SERVICE_KEY'],'direction':np.nan}\n",
    "            trip_df = trip_df.append(new_row, ignore_index=True)\n",
    "            trip_id_lookup.append(row['EVENT_NO_TRIP'])\n",
    "        # print(row['EVENT_NO_TRIP'])\n",
    "    return trip_df"
   ]
  },
  {
   "cell_type": "code",
   "execution_count": 19,
   "metadata": {},
   "outputs": [],
   "source": [
    "trip_df = create_trip_df(df=df, service_key_df=df_service_key)"
   ]
  },
  {
   "cell_type": "code",
   "execution_count": 20,
   "metadata": {},
   "outputs": [
    {
     "name": "stdout",
     "output_type": "stream",
     "text": [
      "     trip_id route_id vehicle_id service_key direction\n",
      "0  170237788      NaN       1776     Weekday       NaN\n",
      "1  170237804      NaN       1776     Weekday       NaN\n",
      "2  170237816      NaN       1776     Weekday       NaN\n",
      "3  170237829      NaN       1776     Weekday       NaN\n",
      "4  170237858      NaN       2215     Weekday       NaN\n",
      "5  170237870      NaN       2215     Weekday       NaN\n",
      "6  170237875      NaN       2215     Weekday       NaN\n",
      "7  170237888      NaN       2215     Weekday       NaN\n",
      "8  170237895      NaN       2215     Weekday       NaN\n",
      "9  170237901      NaN       2215     Weekday       NaN\n"
     ]
    }
   ],
   "source": [
    "print(trip_df.head(10))"
   ]
  },
  {
   "cell_type": "code",
   "execution_count": 34,
   "metadata": {},
   "outputs": [],
   "source": [
    "import psycopg2\n",
    "\n",
    "DB_Name = \"ctran_db\"\n",
    "DB_User = \"reeya\"\n",
    "DB_Password = \"reeya\"\n",
    "Create_DB = False\n",
    "TableName = \"TestTable\"\n",
    "def db_connect():\n",
    "    connection = psycopg2.connect(\n",
    "        host = \"localhost\",\n",
    "        database = DB_Name,\n",
    "        user = DB_User,\n",
    "        password = DB_Password,\n",
    "    )\n",
    "    connection.autocommit = True\n",
    "    return connection"
   ]
  },
  {
   "cell_type": "code",
   "execution_count": 35,
   "metadata": {},
   "outputs": [],
   "source": [
    "conn = db_connect()"
   ]
  },
  {
   "cell_type": "code",
   "execution_count": 37,
   "metadata": {},
   "outputs": [],
   "source": [
    "import psycopg2.extras as extras\n",
    "\n",
    "def execute_batch(conn, df, table, page_size=100):\n",
    "    \"\"\"\n",
    "    Using psycopg2.extras.execute_batch() to insert the dataframe\n",
    "    \"\"\"\n",
    "    # Create a list of tupples from the dataframe values\n",
    "    tuples = [tuple(x) for x in df.to_numpy()]\n",
    "    # Comma-separated dataframe columns\n",
    "    cols = ','.join(list(df.columns))\n",
    "    # SQL quert to execute\n",
    "    query  = \"INSERT INTO %s(%s) VALUES(%%s,%%s,%%s,%%s,%%s)\" % (table, cols)\n",
    "    cursor = conn.cursor()\n",
    "    try:\n",
    "        extras.execute_batch(cursor, query, tuples, page_size)\n",
    "        conn.commit()\n",
    "    except (Exception, psycopg2.DatabaseError) as error:\n",
    "        print(\"Error: %s\" % error)\n",
    "        conn.rollback()\n",
    "        cursor.close()\n",
    "        return 1\n",
    "    print(\"execute_batch() done\")\n",
    "    cursor.close()"
   ]
  },
  {
   "cell_type": "code",
   "execution_count": 21,
   "metadata": {},
   "outputs": [],
   "source": [
    "trip_df = trip_df.drop(['route_id', 'direction'], axis=1)"
   ]
  },
  {
   "cell_type": "code",
   "execution_count": 51,
   "metadata": {},
   "outputs": [
    {
     "name": "stdout",
     "output_type": "stream",
     "text": [
      "     trip_id vehicle_id service_key\n",
      "0  170333377       1776     Weekday\n",
      "1  170333389       1776     Weekday\n",
      "2  170333404       1776     Weekday\n",
      "3  170333412       1776     Weekday\n",
      "4  170333435       1776     Weekday\n",
      "5  170333450       1776     Weekday\n",
      "6  170333484       2215     Weekday\n",
      "7  170333504       2215     Weekday\n",
      "8  170333515       2215     Weekday\n",
      "9  170333567       2218     Weekday\n"
     ]
    }
   ],
   "source": [
    "print(trip_df.head(10))"
   ]
  },
  {
   "cell_type": "code",
   "execution_count": 52,
   "metadata": {},
   "outputs": [],
   "source": [
    "import psycopg2.extras as extras\n",
    "\n",
    "def execute_batch(conn, df, table, page_size=100):\n",
    "    \"\"\"\n",
    "    Using psycopg2.extras.execute_batch() to insert the dataframe\n",
    "    \"\"\"\n",
    "    # Create a list of tupples from the dataframe values\n",
    "    tuples = [tuple(x) for x in df.to_numpy()]\n",
    "    # Comma-separated dataframe columns\n",
    "    cols = ','.join(list(df.columns))\n",
    "    # SQL quert to execute\n",
    "    query  = \"INSERT INTO %s(%s) VALUES(%%s,%%s,%%s)\" % (table, cols)\n",
    "    cursor = conn.cursor()\n",
    "    try:\n",
    "        extras.execute_batch(cursor, query, tuples, page_size)\n",
    "        conn.commit()\n",
    "    except (Exception, psycopg2.DatabaseError) as error:\n",
    "        print(\"Error: %s\" % error)\n",
    "        conn.rollback()\n",
    "        cursor.close()\n",
    "        return 1\n",
    "    print(\"execute_batch() done\")\n",
    "    cursor.close()"
   ]
  },
  {
   "cell_type": "code",
   "execution_count": 57,
   "metadata": {},
   "outputs": [
    {
     "name": "stdout",
     "output_type": "stream",
     "text": [
      "execute_batch() done\n"
     ]
    }
   ],
   "source": [
    "execute_batch(conn=conn,df=trip_df,table='testtable',page_size=100)"
   ]
  },
  {
   "cell_type": "code",
   "execution_count": 54,
   "metadata": {},
   "outputs": [],
   "source": [
    "def execute_batch_breadcrumb(conn, df, table, page_size=100):\n",
    "    \"\"\"\n",
    "    Using psycopg2.extras.execute_batch() to insert the dataframe\n",
    "    \"\"\"\n",
    "    # Create a list of tupples from the dataframe values\n",
    "    tuples = [tuple(x) for x in df.to_numpy()]\n",
    "    # Comma-separated dataframe columns\n",
    "    cols = ','.join(list(df.columns))\n",
    "    # SQL quert to execute\n",
    "    query  = \"INSERT INTO %s(%s) VALUES(%%s,%%s,%%s,%%s,%%s,%%s)\" % (table, cols)\n",
    "    cursor = conn.cursor()\n",
    "    try:\n",
    "        extras.execute_batch(cursor, query, tuples, page_size)\n",
    "        conn.commit()\n",
    "    except (Exception, psycopg2.DatabaseError) as error:\n",
    "        print(\"Error: %s\" % error)\n",
    "        conn.rollback()\n",
    "        cursor.close()\n",
    "        return 1\n",
    "    print(\"execute_batch() done\")\n",
    "    cursor.close()"
   ]
  },
  {
   "cell_type": "code",
   "execution_count": 59,
   "metadata": {},
   "outputs": [
    {
     "name": "stdout",
     "output_type": "stream",
     "text": [
      "Error: invalid input syntax for integer: \"\"\n",
      "LINE 1: ...14T05:55:26'::timestamp,'45.594935','-122.506015','','',1703...\n",
      "                                                             ^\n",
      "\n"
     ]
    },
    {
     "data": {
      "text/plain": [
       "1"
      ]
     },
     "execution_count": 59,
     "metadata": {},
     "output_type": "execute_result"
    }
   ],
   "source": [
    "execute_batch_breadcrumb(conn=conn,df=breadcrumb_df,table='testbreadcrumb',page_size=100)"
   ]
  },
  {
   "cell_type": "code",
   "execution_count": 68,
   "metadata": {},
   "outputs": [
    {
     "name": "stdout",
     "output_type": "stream",
     "text": [
      "                 tstamp   latitude    longitude direction speed    trip_id\n",
      "150 2020-10-14 05:52:51   45.59448  -122.505618       312     2  170333377\n",
      "151 2020-10-14 05:52:55  45.594498  -122.505648       311     0  170333377\n",
      "152 2020-10-14 05:52:56    45.5945   -122.50565       325     0  170333377\n",
      "153 2020-10-14 05:55:26  45.594935  -122.506015                  170333389\n",
      "154 2020-10-14 05:55:31  45.594817   -122.50576       124     4  170333389\n",
      "155 2020-10-14 05:55:36  45.594687   -122.50549       125     5  170333389\n",
      "156 2020-10-14 05:55:41  45.594572  -122.505228       122     4  170333389\n",
      "157 2020-10-14 05:55:46  45.594465  -122.504972       121     4  170333389\n",
      "158 2020-10-14 05:55:51  45.594337  -122.504687       123     5  170333389\n",
      "159 2020-10-14 05:55:56    45.5942  -122.504307       117     6  170333389\n",
      "160 2020-10-14 05:56:01  45.594167   -122.50414       106     2  170333389\n",
      "161 2020-10-14 05:56:06  45.593915  -122.504065       168     5  170333389\n",
      "162 2020-10-14 05:56:11  45.593423  -122.504068       180    11  170333389\n",
      "163 2020-10-14 05:56:16  45.592925  -122.504228       193    11  170333389\n",
      "164 2020-10-14 05:56:21  45.592582  -122.504832       231    12  170333389\n",
      "165 2020-10-14 05:56:26  45.592602  -122.505693       272    13  170333389\n",
      "166 2020-10-14 05:56:31  45.592817  -122.506627       288    15  170333389\n",
      "167 2020-10-14 05:56:36  45.593053  -122.507707       287    17  170333389\n",
      "168 2020-10-14 05:56:41  45.593333  -122.508937       288    20  170333389\n",
      "169 2020-10-14 05:56:46  45.593673  -122.510285       290    22  170333389\n"
     ]
    }
   ],
   "source": [
    "print(breadcrumb_df.iloc[150:170])"
   ]
  },
  {
   "cell_type": "code",
   "execution_count": 71,
   "metadata": {},
   "outputs": [],
   "source": [
    "breadcrumb_df['direction'] = breadcrumb_df['direction'].fillna(0)"
   ]
  },
  {
   "cell_type": "code",
   "execution_count": 79,
   "metadata": {},
   "outputs": [],
   "source": [
    "breadcrumb_df['direction'] = breadcrumb_df['direction'].replace(to_replace='',value=int(0))"
   ]
  },
  {
   "cell_type": "code",
   "execution_count": 80,
   "metadata": {},
   "outputs": [
    {
     "name": "stdout",
     "output_type": "stream",
     "text": [
      "                 tstamp   latitude    longitude direction speed    trip_id\n",
      "150 2020-10-14 05:52:51   45.59448  -122.505618       312     2  170333377\n",
      "151 2020-10-14 05:52:55  45.594498  -122.505648       311     0  170333377\n",
      "152 2020-10-14 05:52:56    45.5945   -122.50565       325     0  170333377\n",
      "153 2020-10-14 05:55:26  45.594935  -122.506015       325        170333389\n",
      "154 2020-10-14 05:55:31  45.594817   -122.50576       124     4  170333389\n",
      "155 2020-10-14 05:55:36  45.594687   -122.50549       125     5  170333389\n",
      "156 2020-10-14 05:55:41  45.594572  -122.505228       122     4  170333389\n",
      "157 2020-10-14 05:55:46  45.594465  -122.504972       121     4  170333389\n",
      "158 2020-10-14 05:55:51  45.594337  -122.504687       123     5  170333389\n",
      "159 2020-10-14 05:55:56    45.5942  -122.504307       117     6  170333389\n",
      "160 2020-10-14 05:56:01  45.594167   -122.50414       106     2  170333389\n",
      "161 2020-10-14 05:56:06  45.593915  -122.504065       168     5  170333389\n",
      "162 2020-10-14 05:56:11  45.593423  -122.504068       180    11  170333389\n",
      "163 2020-10-14 05:56:16  45.592925  -122.504228       193    11  170333389\n",
      "164 2020-10-14 05:56:21  45.592582  -122.504832       231    12  170333389\n",
      "165 2020-10-14 05:56:26  45.592602  -122.505693       272    13  170333389\n",
      "166 2020-10-14 05:56:31  45.592817  -122.506627       288    15  170333389\n",
      "167 2020-10-14 05:56:36  45.593053  -122.507707       287    17  170333389\n",
      "168 2020-10-14 05:56:41  45.593333  -122.508937       288    20  170333389\n",
      "169 2020-10-14 05:56:46  45.593673  -122.510285       290    22  170333389\n"
     ]
    }
   ],
   "source": [
    "print(breadcrumb_df.iloc[150:170])"
   ]
  },
  {
   "cell_type": "code",
   "execution_count": 81,
   "metadata": {},
   "outputs": [],
   "source": [
    "breadcrumb_df['speed'] = breadcrumb_df['speed'].replace(to_replace='', value=float(0.0))"
   ]
  },
  {
   "cell_type": "code",
   "execution_count": 82,
   "metadata": {},
   "outputs": [
    {
     "name": "stdout",
     "output_type": "stream",
     "text": [
      "                 tstamp   latitude    longitude direction speed    trip_id\n",
      "150 2020-10-14 05:52:51   45.59448  -122.505618       312     2  170333377\n",
      "151 2020-10-14 05:52:55  45.594498  -122.505648       311     0  170333377\n",
      "152 2020-10-14 05:52:56    45.5945   -122.50565       325     0  170333377\n",
      "153 2020-10-14 05:55:26  45.594935  -122.506015       325     0  170333389\n",
      "154 2020-10-14 05:55:31  45.594817   -122.50576       124     4  170333389\n",
      "155 2020-10-14 05:55:36  45.594687   -122.50549       125     5  170333389\n",
      "156 2020-10-14 05:55:41  45.594572  -122.505228       122     4  170333389\n",
      "157 2020-10-14 05:55:46  45.594465  -122.504972       121     4  170333389\n",
      "158 2020-10-14 05:55:51  45.594337  -122.504687       123     5  170333389\n",
      "159 2020-10-14 05:55:56    45.5942  -122.504307       117     6  170333389\n",
      "160 2020-10-14 05:56:01  45.594167   -122.50414       106     2  170333389\n",
      "161 2020-10-14 05:56:06  45.593915  -122.504065       168     5  170333389\n",
      "162 2020-10-14 05:56:11  45.593423  -122.504068       180    11  170333389\n",
      "163 2020-10-14 05:56:16  45.592925  -122.504228       193    11  170333389\n",
      "164 2020-10-14 05:56:21  45.592582  -122.504832       231    12  170333389\n",
      "165 2020-10-14 05:56:26  45.592602  -122.505693       272    13  170333389\n",
      "166 2020-10-14 05:56:31  45.592817  -122.506627       288    15  170333389\n",
      "167 2020-10-14 05:56:36  45.593053  -122.507707       287    17  170333389\n",
      "168 2020-10-14 05:56:41  45.593333  -122.508937       288    20  170333389\n",
      "169 2020-10-14 05:56:46  45.593673  -122.510285       290    22  170333389\n"
     ]
    }
   ],
   "source": [
    "print(breadcrumb_df.iloc[150:170])"
   ]
  },
  {
   "cell_type": "code",
   "execution_count": 83,
   "metadata": {},
   "outputs": [],
   "source": [
    "breadcrumb_df['latitude'] = breadcrumb_df['latitude'].replace(to_replace='', value=float(0))"
   ]
  },
  {
   "cell_type": "code",
   "execution_count": 84,
   "metadata": {},
   "outputs": [],
   "source": [
    "breadcrumb_df['longitude'] = breadcrumb_df['longitude'].replace(to_replace='', value=float(0))"
   ]
  },
  {
   "cell_type": "code",
   "execution_count": 85,
   "metadata": {},
   "outputs": [
    {
     "name": "stdout",
     "output_type": "stream",
     "text": [
      "execute_batch() done\n"
     ]
    }
   ],
   "source": [
    "execute_batch_breadcrumb(conn=conn,df=breadcrumb_df,table='testbreadcrumb',page_size=100)"
   ]
  },
  {
   "cell_type": "code",
   "execution_count": 22,
   "metadata": {},
   "outputs": [
    {
     "data": {
      "text/plain": [
       "(1660, 3)"
      ]
     },
     "execution_count": 22,
     "metadata": {},
     "output_type": "execute_result"
    }
   ],
   "source": [
    "trip_df.shape"
   ]
  },
  {
   "cell_type": "code",
   "execution_count": null,
   "metadata": {},
   "outputs": [],
   "source": []
  }
 ],
 "metadata": {
  "interpreter": {
   "hash": "3a1c537272f9a608d6be67fadb6e9e72b72d64945800ed7ccd3a8d4a80196b38"
  },
  "kernelspec": {
   "display_name": "Python 3.6.9 ('confluent-exercise': virtualenv)",
   "language": "python",
   "name": "python3"
  },
  "language_info": {
   "codemirror_mode": {
    "name": "ipython",
    "version": 3
   },
   "file_extension": ".py",
   "mimetype": "text/x-python",
   "name": "python",
   "nbconvert_exporter": "python",
   "pygments_lexer": "ipython3",
   "version": "3.6.9"
  },
  "orig_nbformat": 4
 },
 "nbformat": 4,
 "nbformat_minor": 2
}
