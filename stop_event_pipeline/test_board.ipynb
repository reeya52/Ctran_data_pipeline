{
 "cells": [
  {
   "cell_type": "code",
   "execution_count": 1,
   "metadata": {},
   "outputs": [],
   "source": [
    "import time\n",
    "import psycopg2\n",
    "import argparse\n",
    "import re\n",
    "import csv\n",
    "import pandas as pd\n",
    "import json\n",
    "from datetime import datetime\n",
    "import os\n",
    "import ast\n",
    "from data_transform import *\n",
    "import time\n",
    "import psycopg2.extras as extras"
   ]
  },
  {
   "cell_type": "code",
   "execution_count": 30,
   "metadata": {},
   "outputs": [],
   "source": [
    "def return_df():\n",
    "    # current_file_path = \"/home/reeya/consumed_data\"\n",
    "    # date = datetime.today().strftime('%Y-%m-%d')\n",
    "    # file_name = date + str(\".json\")\n",
    "    # file_path = os.path.join(current_file_path, file_name)\n",
    "\n",
    "    file_path = \"/home/reeya/consumed_stop_event/2022-05-25.json\"\n",
    "\n",
    "    with open(file_path, 'r') as f:\n",
    "        data = json.load(f)\n",
    "\n",
    "    print(\"Data Loaded..\")\n",
    "\n",
    "        # print(data[0])\n",
    "    for i in range(len(data)):\n",
    "        data_string = ast.literal_eval(data[i])\n",
    "        data[i] = json.loads(data_string)\n",
    "\n",
    "    print(\"Data Transformed..\")\n",
    "\n",
    "\n",
    "    df = pd.read_json(json.dumps(data))\n",
    "    # print(df.head(10))\n",
    "    print(\"Returning Data\")\n",
    "    return df"
   ]
  },
  {
   "cell_type": "code",
   "execution_count": 31,
   "metadata": {},
   "outputs": [
    {
     "name": "stdout",
     "output_type": "stream",
     "text": [
      "Data Loaded..\n",
      "Data Transformed..\n",
      "Returning Data\n"
     ]
    }
   ],
   "source": [
    "df = return_df()"
   ]
  },
  {
   "cell_type": "code",
   "execution_count": 35,
   "metadata": {},
   "outputs": [
    {
     "name": "stdout",
     "output_type": "stream",
     "text": [
      "['vehicle_number', 'leave_time', 'train', 'route_number', 'direction', 'service_key', 'stop_time', 'arrive_time', 'dwell', 'location_id', 'door', 'lift', 'ons', 'offs', 'estimated_load', 'maximum_speed', 'train_mileage', 'pattern_distance', 'location_distance', 'x_coordinate', 'y_coordinate', 'data_source', 'schedule_status', 'trip_id']\n"
     ]
    }
   ],
   "source": [
    "print(list(df.columns))"
   ]
  },
  {
   "cell_type": "code",
   "execution_count": 38,
   "metadata": {},
   "outputs": [
    {
     "data": {
      "text/plain": [
       "(array([], dtype=int64), array([], dtype=int64))"
      ]
     },
     "execution_count": 38,
     "metadata": {},
     "output_type": "execute_result"
    }
   ],
   "source": [
    "np.where(df[['service_key']].applymap(lambda x: x == ''))"
   ]
  },
  {
   "cell_type": "code",
   "execution_count": 51,
   "metadata": {},
   "outputs": [
    {
     "name": "stdout",
     "output_type": "stream",
     "text": [
      "x_coordinate:  (array([   30, 21090, 21183, 25364, 25427, 26432]),)\n",
      "y_coordinate:  (array([   30, 21090, 21183, 25364, 25427, 26432]),)\n",
      "location_distance  (array([   30, 21090, 21183, 25364, 25427, 26432]),)\n"
     ]
    }
   ],
   "source": [
    "print(\"x_coordinate: \",np.where(pd.isnull(df['x_coordinate'])))\n",
    "print(\"y_coordinate: \",np.where(pd.isnull(df['y_coordinate'])))\n",
    "print(\"location_distance \",np.where(pd.isnull(df['location_distance'])))\n",
    "\n"
   ]
  },
  {
   "cell_type": "code",
   "execution_count": 52,
   "metadata": {},
   "outputs": [
    {
     "name": "stdout",
     "output_type": "stream",
     "text": [
      "['vehicle_number', 'leave_time', 'train', 'route_number', 'direction', 'service_key', 'stop_time', 'arrive_time', 'dwell', 'location_id', 'door', 'lift', 'ons', 'offs', 'estimated_load', 'maximum_speed', 'train_mileage', 'pattern_distance', 'location_distance', 'x_coordinate', 'y_coordinate', 'data_source', 'schedule_status', 'trip_id']\n"
     ]
    }
   ],
   "source": [
    "print(list(df.columns))"
   ]
  },
  {
   "cell_type": "code",
   "execution_count": 55,
   "metadata": {},
   "outputs": [
    {
     "name": "stdout",
     "output_type": "stream",
     "text": [
      "['vehicle_number', 'leave_time', 'train', 'route_number', 'direction', 'service_key', 'stop_time', 'arrive_time', 'dwell', 'location_id', 'door', 'lift', 'ons', 'offs', 'estimated_load', 'maximum_speed', 'train_mileage', 'pattern_distance', 'location_distance', 'x_coordinate', 'y_coordinate', 'data_source', 'schedule_status', 'trip_id']\n"
     ]
    }
   ],
   "source": [
    "print(list(df.columns))"
   ]
  },
  {
   "cell_type": "code",
   "execution_count": 80,
   "metadata": {},
   "outputs": [],
   "source": [
    "column_names = ['route_number', 'direction', 'stop_time', 'arrive_time', 'vehicle_number', 'leave_time', 'train', 'dwell', 'location_id', 'door', 'lift', 'ons', 'offs','estimated_load', 'maximum_speed', 'data_source', 'schedule_status', 'trip_id']\n",
    "\n",
    "for each_column_name in column_names:\n",
    "    if(df[each_column_name].isnull().values.any()):\n",
    "        df[each_column_name] = df[each_column_name].interpolate(method='linear', limit_direction='both').astype(int)\n",
    "\n",
    "df = df.assign(maximum_speed = 0)\n"
   ]
  },
  {
   "cell_type": "code",
   "execution_count": 81,
   "metadata": {},
   "outputs": [
    {
     "name": "stdout",
     "output_type": "stream",
     "text": [
      "location_id:  (array([], dtype=int64),)\n",
      "maximum_speed:  (array([], dtype=int64),)\n"
     ]
    }
   ],
   "source": [
    "print(\"location_id: \",np.where(pd.isnull(df['location_id'])))\n",
    "print(\"maximum_speed: \",np.where(pd.isnull(df['maximum_speed'])))"
   ]
  },
  {
   "cell_type": "code",
   "execution_count": 76,
   "metadata": {},
   "outputs": [],
   "source": [
    "DB_Name = \"ctran_db\"\n",
    "DB_User = \"reeya\"\n",
    "DB_Password = \"reeya\"\n",
    "Create_DB = False\n",
    "TableName = \"teststopdata\"\n",
    "def db_connect():\n",
    "    connection = psycopg2.connect(\n",
    "        host = \"localhost\",\n",
    "        database = DB_Name,\n",
    "        user = DB_User,\n",
    "        password = DB_Password,\n",
    "    )\n",
    "    connection.autocommit = True\n",
    "    return connection"
   ]
  },
  {
   "cell_type": "code",
   "execution_count": 77,
   "metadata": {},
   "outputs": [],
   "source": [
    "def execute_batch_trip(conn, df, table, page_size=100):\n",
    "    \"\"\"\n",
    "    Using psycopg2.extras.execute_batch() to insert the dataframe\n",
    "    \"\"\"\n",
    "    # Create a list of tupples from the dataframe values\n",
    "    tuples = [tuple(x) for x in df.to_numpy()]\n",
    "    # Comma-separated dataframe columns\n",
    "    cols = ','.join(list(df.columns))\n",
    "    # SQL quert to execute\n",
    "    query  = \"INSERT INTO %s(%s) VALUES(%%s,%%s,%%s,%%s,%%s,%%s,%%s,%%s,%%s,%%s,%%s,%%s,%%s,%%s,%%s,%%s,%%s,%%s,%%s,%%s,%%s,%%s,%%s,%%s)\" % (table, cols)\n",
    "    cursor = conn.cursor()\n",
    "    try:\n",
    "        extras.execute_batch(cursor, query, tuples, page_size)\n",
    "        conn.commit()\n",
    "    except (Exception, psycopg2.DatabaseError) as error:\n",
    "        print(\"Error: %s\" % error)\n",
    "        conn.rollback()\n",
    "        cursor.close()\n",
    "        return 1\n",
    "    print(\"execute_batch() done\")\n",
    "    cursor.close()\n"
   ]
  },
  {
   "cell_type": "code",
   "execution_count": 78,
   "metadata": {},
   "outputs": [],
   "source": [
    "conn = db_connect()"
   ]
  },
  {
   "cell_type": "code",
   "execution_count": 84,
   "metadata": {},
   "outputs": [
    {
     "name": "stdout",
     "output_type": "stream",
     "text": [
      "execute_batch() done\n"
     ]
    }
   ],
   "source": [
    "execute_batch_trip(conn=conn, df=df, table='teststopdata', page_size=100)"
   ]
  },
  {
   "cell_type": "code",
   "execution_count": 82,
   "metadata": {},
   "outputs": [
    {
     "name": "stdout",
     "output_type": "stream",
     "text": [
      "   vehicle_number  leave_time  train  route_number  direction service_key  \\\n",
      "0            4001       19683   7101            71        1.0           W   \n",
      "\n",
      "   stop_time  arrive_time  dwell  location_id  ...  estimated_load  \\\n",
      "0    20160.0        19683      0        543.0  ...               3   \n",
      "\n",
      "   maximum_speed  train_mileage  pattern_distance  location_distance  \\\n",
      "0              0         1.4838            1.4882           13.42337   \n",
      "\n",
      "   x_coordinate  y_coordinate  data_source  schedule_status    trip_id  \n",
      "0   -122.661923      45.67998            2                2  171386740  \n",
      "\n",
      "[1 rows x 24 columns]\n"
     ]
    }
   ],
   "source": [
    "print(df[:1])"
   ]
  },
  {
   "cell_type": "code",
   "execution_count": null,
   "metadata": {},
   "outputs": [],
   "source": []
  }
 ],
 "metadata": {
  "interpreter": {
   "hash": "3a1c537272f9a608d6be67fadb6e9e72b72d64945800ed7ccd3a8d4a80196b38"
  },
  "kernelspec": {
   "display_name": "Python 3.6.9 ('confluent-exercise': virtualenv)",
   "language": "python",
   "name": "python3"
  },
  "language_info": {
   "codemirror_mode": {
    "name": "ipython",
    "version": 3
   },
   "file_extension": ".py",
   "mimetype": "text/x-python",
   "name": "python",
   "nbconvert_exporter": "python",
   "pygments_lexer": "ipython3",
   "version": "3.6.9"
  },
  "orig_nbformat": 4
 },
 "nbformat": 4,
 "nbformat_minor": 2
}
